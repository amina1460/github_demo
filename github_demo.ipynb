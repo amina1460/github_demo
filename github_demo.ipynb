{
 "cells": [
  {
   "cell_type": "code",
   "execution_count": 3,
   "metadata": {},
   "outputs": [
    {
     "ename": "NameError",
     "evalue": "name '_name_' is not defined",
     "output_type": "error",
     "traceback": [
      "\u001b[1;31m---------------------------------------------------------------------------\u001b[0m",
      "\u001b[1;31mNameError\u001b[0m                                 Traceback (most recent call last)",
      "Cell \u001b[1;32mIn[3], line 43\u001b[0m\n\u001b[0;32m     34\u001b[0m     messages \u001b[38;5;241m=\u001b[39m [\n\u001b[0;32m     35\u001b[0m         \u001b[38;5;124m\"\u001b[39m\u001b[38;5;124mKeep pushing those commits!\u001b[39m\u001b[38;5;124m\"\u001b[39m,\n\u001b[0;32m     36\u001b[0m         \u001b[38;5;124m\"\u001b[39m\u001b[38;5;124mCode. Commit. Push. Repeat.\u001b[39m\u001b[38;5;124m\"\u001b[39m,\n\u001b[1;32m   (...)\u001b[0m\n\u001b[0;32m     39\u001b[0m         \u001b[38;5;124m\"\u001b[39m\u001b[38;5;124mVersion control is under control.\u001b[39m\u001b[38;5;124m\"\u001b[39m\n\u001b[0;32m     40\u001b[0m     ]\n\u001b[0;32m     41\u001b[0m     \u001b[38;5;28mprint\u001b[39m(\u001b[38;5;124m\"\u001b[39m\u001b[38;5;124m💡 Tip of the day:\u001b[39m\u001b[38;5;124m\"\u001b[39m, random\u001b[38;5;241m.\u001b[39mchoice(messages))\n\u001b[1;32m---> 43\u001b[0m \u001b[38;5;28;01mif\u001b[39;00m \u001b[43m_name_\u001b[49m \u001b[38;5;241m==\u001b[39m \u001b[38;5;124m\"\u001b[39m\u001b[38;5;124m_main_\u001b[39m\u001b[38;5;124m\"\u001b[39m:\n\u001b[0;32m     44\u001b[0m     main()\n",
      "\u001b[1;31mNameError\u001b[0m: name '_name_' is not defined"
     ]
    }
   ],
   "source": [
    "# demo github push\n",
    "# -- coding: utf-8 --\n",
    "\"\"\"\n",
    "Created on Thu Oct 12 16:23:45 2023\n",
    "\"\"\"\n",
    "\n",
    "# Simple program that says welcome to GitHub,\n",
    "# prints the current date and time,\n",
    "# and the current working directory\n",
    "\n",
    "import datetime\n",
    "import os\n",
    "import sys\n",
    "import time\n",
    "import random\n",
    "import math\n",
    "import string\n",
    "import json\n",
    "import requests\n",
    "import urllib.parse\n",
    "\n",
    "def main():\n",
    "    print(\"👋 Welcome to GitHub!\")\n",
    "\n",
    "    # Get and print current date and time\n",
    "    now = datetime.datetime.now()\n",
    "    print(\"🕒 Current date and time:\", now.strftime(\"%Y-%m-%d %H:%M:%S\"))\n",
    "\n",
    "    # Get and print current working directory\n",
    "    cwd = os.getcwd()\n",
    "    print(\"📁 Current working directory:\", cwd)\n",
    "\n",
    "    # Just for fun: print a random motivational message\n",
    "    messages = [\n",
    "        \"Keep pushing those commits!\",\n",
    "        \"Code. Commit. Push. Repeat.\",\n",
    "        \"You're doing great!\",\n",
    "        \"Git it done! 😎\",\n",
    "        \"Version control is under control.\"\n",
    "    ]\n",
    "    print(\"💡 Tip of the day:\", random.choice(messages))\n",
    "\n",
    "if _name_ == \"_main_\":\n",
    "    main()"
   ]
  },
  {
   "cell_type": "code",
   "execution_count": 1,
   "metadata": {},
   "outputs": [],
   "source": [
    "import requests"
   ]
  },
  {
   "cell_type": "code",
   "execution_count": 3,
   "metadata": {},
   "outputs": [
    {
     "name": "stdout",
     "output_type": "stream",
     "text": [
      "Welcome to GitHub\n",
      "Current date and time: 2025-04-08 11:53:14\n",
      "Current working directory: c:\\Users\\user\\AppData\\Local\\Programs\\Microsoft VS Code\n"
     ]
    }
   ],
   "source": [
    "import datetime\n",
    "import os\n",
    "\n",
    "# Print welcome message\n",
    "print(\"Welcome to GitHub\")\n",
    "\n",
    "# Get and print the current date and time\n",
    "now = datetime.datetime.now()\n",
    "print(\"Current date and time:\", now.strftime(\"%Y-%m-%d %H:%M:%S\"))\n",
    "\n",
    "# Get and print the current working directory\n",
    "cwd = os.getcwd()\n",
    "print(\"Current working directory:\", cwd)\n"
   ]
  }
 ],
 "metadata": {
  "kernelspec": {
   "display_name": "Python 3",
   "language": "python",
   "name": "python3"
  },
  "language_info": {
   "codemirror_mode": {
    "name": "ipython",
    "version": 3
   },
   "file_extension": ".py",
   "mimetype": "text/x-python",
   "name": "python",
   "nbconvert_exporter": "python",
   "pygments_lexer": "ipython3",
   "version": "3.11.4"
  }
 },
 "nbformat": 4,
 "nbformat_minor": 2
}
